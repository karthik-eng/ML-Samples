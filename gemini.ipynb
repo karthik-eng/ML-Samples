{
  "cells": [
    {
      "cell_type": "markdown",
      "metadata": {
        "id": "view-in-github",
        "colab_type": "text"
      },
      "source": [
        "<a href=\"https://colab.research.google.com/github/karthik-eng/ML-Samples/blob/main/gemini.ipynb\" target=\"_parent\"><img src=\"https://colab.research.google.com/assets/colab-badge.svg\" alt=\"Open In Colab\"/></a>"
      ]
    },
    {
      "cell_type": "markdown",
      "metadata": {
        "id": "yob8kLEZeUzF"
      },
      "source": [
        "## Connecting to Gemini\n",
        "\n",
        "The Gemini API allows you to connect to Google's most powerful multi-modal model. This example configures your API key and sends an example message to the API and prints a response.\n",
        "\n",
        "Before you start, visit https://makersuite.google.com/app/apikey to create an API key."
      ]
    },
    {
      "cell_type": "code",
      "execution_count": null,
      "metadata": {
        "id": "eJ2d2cIhcmyw"
      },
      "outputs": [],
      "source": [
        "#@title Configure Gemini API key\n",
        "\n",
        "import google.generativeai as genai\n",
        "from google.colab import userdata\n",
        "\n",
        "gemini_api_secret_name = 'GOOGLE_API_KEY'  # @param {type: \"string\"}\n",
        "\n",
        "try:\n",
        "  GOOGLE_API_KEY=userdata.get(gemini_api_secret_name)\n",
        "  genai.configure(api_key=GOOGLE_API_KEY)\n",
        "except userdata.SecretNotFoundError as e:\n",
        "   print(f'Secret not found\\n\\nThis expects you to create a secret named {gemini_api_secret_name} in Colab\\n\\nVisit https://makersuite.google.com/app/apikey to create an API key\\n\\nStore that in the secrets section on the left side of the notebook (key icon)\\n\\nName the secret {gemini_api_secret_name}')\n",
        "   raise e\n",
        "except userdata.NotebookAccessError as e:\n",
        "  print(f'You need to grant this notebook access to the {gemini_api_secret_name} secret in order for the notebook to access Gemini on your behalf.')\n",
        "  raise e\n",
        "except Exception as e:\n",
        "  # unknown error\n",
        "  print(f\"There was an unknown error. Ensure you have a secret {gemini_api_secret_name} stored in Colab and it's a valid key from https://makersuite.google.com/app/apikey\")\n",
        "  raise e"
      ]
    },
    {
      "cell_type": "code",
      "execution_count": null,
      "metadata": {
        "id": "gM1IZNtDdZuq",
        "outputId": "72aa6751-5a41-4110-9991-87954e1d4054",
        "colab": {
          "base_uri": "https://localhost:8080/",
          "height": 268
        }
      },
      "outputs": [
        {
          "output_type": "execute_result",
          "data": {
            "text/plain": [
              "\"**Factors Influencing Home Prices in California:**\\n\\n* **Economic Growth:** California's strong economy, driven by tech and other industries, supports high housing demand.\\n* **Population Growth:** California's population is projected to continue growing, increasing demand for housing.\\n* **Limited Land Supply:** California has a limited amount of developable land, especially in desirable areas.\\n* **Interest Rates:** Rising interest rates can make it more expensive to buy a home, reducing demand.\\n* **Government Regulations:** Regulations related to zoning, environmental protection, and building codes can affect housing supply and costs.\\n* **Natural Disasters:** Events such as wildfires and earthquakes can impact housing markets.\\n\\n**Forecasting Home Prices in 2030:**\\n\\nAccurately forecasting home prices years in advance is challenging, but here are some projections based on current trends and expert opinions:\\n\\n* **California Association of Realtors (CAR):** CAR predicts a 30% increase in home prices in California from 2023 to 2030, with a median home price of around $900,000 in 2030.\\n* **National Association of Realtors (NAR):** NAR projects a 17% increase in home prices in California from 2022 to 2030, with a median price of around $850,000.\\n* **Freddie Mac:** Freddie Mac forecasts a 15% increase in home prices in California from 2022 to 2027, with a median price of around $770,000 in 2027.\\n\\n**Regional Variations:**\\n\\nHome price appreciation is likely to vary across California, with desirable areas such as the Bay Area and Los Angeles experiencing higher increases than less populated regions.\\n\\n**Disclaimer:**\\n\\nThese projections should be taken with caution as they are based on current trends and assumptions that may change in the future. The actual home price in California in 2030 will depend on various factors that may not be fully predictable.\""
            ],
            "application/vnd.google.colaboratory.intrinsic+json": {
              "type": "string"
            }
          },
          "metadata": {},
          "execution_count": 7
        }
      ],
      "source": [
        "#connect to the API and send an example message\n",
        "\n",
        "text = 'What will the home price in california in 2030 ?' #@param {type: 'string'}\n",
        "\n",
        "model = genai.GenerativeModel('gemini-pro')\n",
        "chat = model.start_chat(history=[])\n",
        "\n",
        "response = chat.send_message(text)\n",
        "response.text"
      ]
    }
  ],
  "metadata": {
    "colab": {
      "provenance": [],
      "include_colab_link": true
    },
    "kernelspec": {
      "display_name": "Python 3",
      "name": "python3"
    },
    "language_info": {
      "name": "python"
    }
  },
  "nbformat": 4,
  "nbformat_minor": 0
}